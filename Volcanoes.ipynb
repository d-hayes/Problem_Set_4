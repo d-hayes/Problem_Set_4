{
 "cells": [
  {
   "cell_type": "code",
   "execution_count": 24,
   "metadata": {},
   "outputs": [],
   "source": [
    "from sqlalchemy import create_engine\n",
    "from sqlalchemy import Table, Column, Integer, String, Float, MetaData, ForeignKey\n",
    "from sqlalchemy import exists\n",
    "from sqlalchemy import sql, select, join, desc\n",
    "\n",
    "# Create a sqlite database \n",
    "engine = create_engine('sqlite:///volcanoes.sqlite')\n",
    "\n",
    "metadata=MetaData()\n",
    "\n",
    "#Making the Volcanoes table\n",
    "try:\n",
    "    Volcanoes=Table('Volcanoes', metadata, autoload=True)\n",
    "except:\n",
    "    Volcanoes = Table ('Volcanoes', metadata,\n",
    "                    Column('Volcano_Number', Integer),\n",
    "                    Column('Volcano_Name', String, primary_key = True),\n",
    "                    Column('Eruption_Number', Integer),\n",
    "                    Column('Latitude', Float),\n",
    "                    Column('Longitude', Float)\n",
    "                   )\n",
    "\n",
    "try:\n",
    "    Eruptions=Table('Eruptions', metadata, autoload=True)\n",
    "except:\n",
    "    Eruptions = Table ('Eruptions', metadata,\n",
    "                     #Column(ForeignKey(\"Volcanoes.Volcano Name\")),\n",
    "                     Column('Eruption_Number', Integer),\n",
    "                     Column('Eruption_Category', String),\n",
    "                     Column('Area_of_Activity', String),\n",
    "                     Column('VEI', String),\n",
    "                     Column('Start_Year', Integer),\n",
    "                     Column('Start_Month', Integer),\n",
    "                     Column('Start_Day', Integer),\n",
    "                     Column('Evidence_Method', String),\n",
    "                     Column('End_Year', Integer),\n",
    "                     Column('End_Month', Integer),\n",
    "                     Column('End_Day', Integer)\n",
    "                    )\n",
    "                 \n",
    "metadata.create_all(engine)"
   ]
  },
  {
   "cell_type": "code",
   "execution_count": 25,
   "metadata": {},
   "outputs": [
    {
     "name": "stderr",
     "output_type": "stream",
     "text": [
      "/apps/jupyterhub/0.9.2/lib/python3.6/site-packages/pandas/core/frame.py:3781: SettingWithCopyWarning: \n",
      "A value is trying to be set on a copy of a slice from a DataFrame\n",
      "\n",
      "See the caveats in the documentation: http://pandas.pydata.org/pandas-docs/stable/indexing.html#indexing-view-versus-copy\n",
      "  return super(DataFrame, self).rename(**kwargs)\n"
     ]
    },
    {
     "name": "stdout",
     "output_type": "stream",
     "text": [
      "   Volcano_Number   Volcano_Name  Eruption_Number  Latitude  Longitude\n",
      "0          252120         Ulawun            22286    -5.050    151.330\n",
      "1          290200          Ketoi            22287    47.350    152.475\n",
      "2          290240  Sarychev Peak            22288    48.092    153.200\n",
      "3          311060  Semisopochnoi            22289    51.930    179.580\n",
      "4          312070     Veniaminof            22290    56.170   -159.380\n"
     ]
    }
   ],
   "source": [
    "import pandas as pd\n",
    "\n",
    "conn = engine.connect()\n",
    "\n",
    "df = pd.ExcelFile('temp/GVP_Eruption_Results.xls.xlsx').parse('Eruption List');\n",
    "\n",
    "dfVolcanoes = df[['Volcano Number', 'Volcano Name', 'Eruption Number', 'Latitude', 'Longitude']]\n",
    "\n",
    "dfVolcanoes.rename(index=str, columns={'Volcano Number':'Volcano_Number', 'Volcano Name':'Volcano_Name', 'Eruption Number':'Eruption_Number'}, inplace=True)\n",
    "\n",
    "print(dfVolcanoes.head())\n",
    "dfVolcanoes.to_sql('Volcanoes', conn, if_exists='replace') "
   ]
  },
  {
   "cell_type": "code",
   "execution_count": 26,
   "metadata": {},
   "outputs": [
    {
     "name": "stdout",
     "output_type": "stream",
     "text": [
      "(252120, 'Ulawun', 22286)\n",
      "(290200, 'Ketoi', 22287)\n",
      "(290240, 'Sarychev Peak', 22288)\n",
      "(311060, 'Semisopochnoi', 22289)\n",
      "(312070, 'Veniaminof', 22290)\n",
      "(290390, 'Alaid', 22281)\n",
      "(352090, 'Sangay', 22283)\n",
      "(345020, 'Rincon de la Vieja', 22282)\n",
      "(284096, 'Nishinoshima', 22280)\n",
      "(353050, 'Negra, Sierra', 22279)\n"
     ]
    }
   ],
   "source": [
    "query=select([Volcanoes.c.Volcano_Number, Volcanoes.c.Volcano_Name, Volcanoes.c.Eruption_Number]).limit(10)\n",
    "result = conn.execute(query)\n",
    "for row in result:\n",
    "    print(row)"
   ]
  },
  {
   "cell_type": "code",
   "execution_count": null,
   "metadata": {},
   "outputs": [],
   "source": []
  }
 ],
 "metadata": {
  "kernelspec": {
   "display_name": "Python 3",
   "language": "python",
   "name": "python3"
  },
  "language_info": {
   "codemirror_mode": {
    "name": "ipython",
    "version": 3
   },
   "file_extension": ".py",
   "mimetype": "text/x-python",
   "name": "python",
   "nbconvert_exporter": "python",
   "pygments_lexer": "ipython3",
   "version": "3.6.3"
  }
 },
 "nbformat": 4,
 "nbformat_minor": 2
}
