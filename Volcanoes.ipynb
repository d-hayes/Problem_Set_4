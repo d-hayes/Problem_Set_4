{
 "cells": [
  {
   "cell_type": "code",
   "execution_count": null,
   "metadata": {},
   "outputs": [],
   "source": [
    "https://pandas.pydata.org/pandas-docs/stable/generated/pandas.read_excel.html\n",
    "https://docs.sqlalchemy.org/en/latest/errors.html#error-e3q8\n",
    "https://pandas.pydata.org/pandas-docs/stable/generated/pandas.DataFrame.to_sql.html "
   ]
  },
  {
   "cell_type": "code",
   "execution_count": 8,
   "metadata": {},
   "outputs": [],
   "source": [
    "#volcanoes = open('/home/d.hayes/Problem_Set_4/GVP_Eruption_Results.xls')"
   ]
  },
  {
   "cell_type": "code",
   "execution_count": 17,
   "metadata": {},
   "outputs": [],
   "source": [
    "from sqlalchemy import create_engine\n",
    "from sqlalchemy import Table, Column, Integer, String, Float, MetaData, ForeignKey\n",
    "from sqlalchemy import exists\n",
    "from sqlalchemy import sql, select, join, desc\n",
    "\n",
    "# Create a sqlite database \n",
    "engine = create_engine('sqlite:///volcanoes.sqlite')\n",
    "\n",
    "metadata=MetaData()\n",
    "\n",
    "#Making the Volcanoes table\n",
    "try:\n",
    "    Volcanoes=Table('Volcanoes', metadata, autoload=True)\n",
    "except:\n",
    "    Volcanoes = Table ('Volcanoes', metadata,\n",
    "                    Column('Volcano Number', Integer),\n",
    "                    Column('Volcano Name', String, primary_key = True),\n",
    "                    Column('Latitude', Float),\n",
    "                    Column('Longitude', Float)\n",
    "                   )\n",
    "\n",
    "try:\n",
    "    Eruptions=Table('Eruptions', metadata, autoload=True)\n",
    "except:\n",
    "    Eruptions = Table ('Eruptions', metadata,\n",
    "                     Column('Eruption Number', Integer, primary_key = True),\n",
    "                     Column('Volcano Name', String, ForeignKey('Volcanoes.Volcano Name')),\n",
    "                     Column('Eruption Category', String),\n",
    "                     Column('Area of Activity', String),\n",
    "                     Column('VEI', String),\n",
    "                     Column('Start Year', Integer),\n",
    "                     Column('Start Month', Integer),\n",
    "                     Column('Start Day', Integer),\n",
    "                     Column('Evidence Method', String),\n",
    "                     Column('End Year', Integer),\n",
    "                     Column('End Month', Integer),\n",
    "                     Column('End Day', Integer)\n",
    "                    )\n",
    "                 \n",
    "metadata.create_all(engine)"
   ]
  },
  {
   "cell_type": "code",
   "execution_count": 12,
   "metadata": {},
   "outputs": [],
   "source": [
    "#df=pd.read_excel(\"GVP_Eruption_Results.xls.xlsx\")\n",
    "\n",
    "import pandas as pd\n",
    "\n",
    "df = pd.ExcelFile('GVP_Eruption_Results.xls.xlsx').parse('Eruption List');\n",
    "#Check to make sure df worked:\n",
    "#print(df.head())\n",
    "\n",
    "#conn = engine.connect()\n",
    "#df.to_sql('Volcanoes', conn, if_exists='replace', chunksize=50) \n",
    "#df.to_sql(volcanoes, con=engine, index=True, index_label=None, chunksize=None, dtype={\"Volcano Number\": Integer(),\"Volcano Name\": String(), \"Eruption Number\": Integer, \"Latitude\": Float, \"Longitude\": Float})\n",
    "\n",
    "#volcanoes = open('/home/d.hayes/Problem_Set_4/GVP_Eruption_Results.xls')\n"
   ]
  },
  {
   "cell_type": "code",
   "execution_count": 8,
   "metadata": {},
   "outputs": [
    {
     "data": {
      "text/plain": [
       "(11135, 24)"
      ]
     },
     "execution_count": 8,
     "metadata": {},
     "output_type": "execute_result"
    }
   ],
   "source": [
    "df.head()\n",
    "df.shape"
   ]
  },
  {
   "cell_type": "code",
   "execution_count": 9,
   "metadata": {},
   "outputs": [
    {
     "name": "stdout",
     "output_type": "stream",
     "text": [
      "Karkar\n",
      "{'V': 'Volcano Number', 'o': 'Volcano Number', 'l': 'Volcano Number', 'c': 'Volcano Number', 'a': 'Volcano Number', 'n': 'Volcano Number', ' ': 'Volcano Number', 'N': 'Volcano Number', 'm': 'Volcano Number', 'e': 'Volcano Number'}\n"
     ]
    }
   ],
   "source": [
    "reader = df.to_dict()\n",
    "Volcano_dict={}\n",
    "print(reader[\"Volcano Name\"][212])\n",
    "# Read through the file and make a dictionary for airport codes.\n",
    "# This gets a unique list of airport codes.\n",
    "for Line in range(11135):\n",
    "    if reader['Volcano Name'][Line] not in Volcano_dict:\n",
    "        Volcano_dict[reader['Volcano Name'][Line]]=reader['Volcano Number'][Line]\n",
    "len(Volcano_dict)\n",
    "print (Volcano_dict.fromkeys('Volcano Name', 'Volcano Number'))"
   ]
  },
  {
   "cell_type": "code",
   "execution_count": 29,
   "metadata": {},
   "outputs": [
    {
     "ename": "SyntaxError",
     "evalue": "invalid syntax (<ipython-input-29-ebce984fdaaf>, line 5)",
     "output_type": "error",
     "traceback": [
      "\u001b[0;36m  File \u001b[0;32m\"<ipython-input-29-ebce984fdaaf>\"\u001b[0;36m, line \u001b[0;32m5\u001b[0m\n\u001b[0;31m    def insert_Volcanoes(Volcano Name, Volcano Number):\u001b[0m\n\u001b[0m                                    ^\u001b[0m\n\u001b[0;31mSyntaxError\u001b[0m\u001b[0;31m:\u001b[0m invalid syntax\n"
     ]
    }
   ],
   "source": [
    "# Add the Volcano_dict codes to the Volcanoes table\n",
    "from sqlalchemy.orm import sessionmaker\n",
    "conn = engine.connect()\n",
    "\n",
    "def insert_Volcanoes(Volcano Name, Volcano Number):\n",
    "    ins=Volcanoes.insert().values(Volcano Name='Volcano Name',\n",
    "                                 Volcano Number='Volcano Number')\n",
    "    result = conn.execute(ins)\n",
    "\n",
    "for key, value in Volcano_dict.items(): \n",
    "    insert_Volcanoes(key, value[0], value[1])"
   ]
  },
  {
   "cell_type": "code",
   "execution_count": 16,
   "metadata": {},
   "outputs": [
    {
     "ename": "TypeError",
     "evalue": "string indices must be integers",
     "output_type": "error",
     "traceback": [
      "\u001b[0;31m---------------------------------------------------------------------------\u001b[0m",
      "\u001b[0;31mTypeError\u001b[0m                                 Traceback (most recent call last)",
      "\u001b[0;32m<ipython-input-16-54b24190f0a3>\u001b[0m in \u001b[0;36m<module>\u001b[0;34m()\u001b[0m\n\u001b[1;32m      2\u001b[0m \u001b[0;32mfor\u001b[0m \u001b[0mLine\u001b[0m \u001b[0;32min\u001b[0m \u001b[0mreader\u001b[0m\u001b[0;34m:\u001b[0m\u001b[0;34m\u001b[0m\u001b[0m\n\u001b[1;32m      3\u001b[0m \u001b[0;34m\u001b[0m\u001b[0m\n\u001b[0;32m----> 4\u001b[0;31m     ins=Volcanoes.insert().values(Latitude = Line['Latitude'],\n\u001b[0m\u001b[1;32m      5\u001b[0m                                 \u001b[0mLongitude\u001b[0m \u001b[0;34m=\u001b[0m \u001b[0mLine\u001b[0m\u001b[0;34m[\u001b[0m\u001b[0;34m'Longitude'\u001b[0m\u001b[0;34m]\u001b[0m\u001b[0;34m,\u001b[0m\u001b[0;34m\u001b[0m\u001b[0m\n\u001b[1;32m      6\u001b[0m                                           )         \n",
      "\u001b[0;31mTypeError\u001b[0m: string indices must be integers"
     ]
    }
   ],
   "source": [
    "reader = df.to_dict()\n",
    "for Line in reader:\n",
    "\n",
    "    ins=Volcanoes.insert().values(Latitude = Line['Latitude'],\n",
    "                                Longitude = Line['Longitude'],\n",
    "                                          )         \n",
    "    result = conn.execute(ins)\n"
   ]
  },
  {
   "cell_type": "code",
   "execution_count": 31,
   "metadata": {},
   "outputs": [
    {
     "ename": "SyntaxError",
     "evalue": "invalid syntax (<ipython-input-31-00b5415eb4f9>, line 11)",
     "output_type": "error",
     "traceback": [
      "\u001b[0;36m  File \u001b[0;32m\"<ipython-input-31-00b5415eb4f9>\"\u001b[0;36m, line \u001b[0;32m11\u001b[0m\n\u001b[0;31m    ins=Eruptions.insert().values(Eruption Number=Line['Eruption Number'],\u001b[0m\n\u001b[0m                                                ^\u001b[0m\n\u001b[0;31mSyntaxError\u001b[0m\u001b[0;31m:\u001b[0m invalid syntax\n"
     ]
    }
   ],
   "source": [
    "# Close the file\n",
    "#volcanoes.close()\n",
    "\n",
    "# Re-open to get Volcano data\n",
    "\n",
    "#volcanoes = open('/home/d.hayes/Problem_Set_4/GVP_Eruption_Results.xls')\n",
    "\n",
    "reader = df.to_dict()\n",
    "for Line in reader:\n",
    "\n",
    "    ins=Eruptions.insert().values(Eruption Number=Line['Eruption Number'],\n",
    "                                Volcano Name = Line['Volcano Name'],\n",
    "                                Eruption Category = Line['Eruption Category'],\n",
    "                                Area of Activity = Line['Area of Activity'],\n",
    "                                VEI = Line['VEI'],\n",
    "                                Start Year = Line['Start Year'],\n",
    "                                Start Month = Line['Start Month'],\n",
    "                                Start Day = Line['Start Day'],\n",
    "                                Evidence Method = Line['Evidence Method'],\n",
    "                                End Year = Line['End Year'],\n",
    "                                End Month = Line['End Month'],\n",
    "                                End Day = Line['End Day'],\n",
    "                                          )          \n",
    "    result = conn.execute(ins)\n"
   ]
  },
  {
   "cell_type": "code",
   "execution_count": null,
   "metadata": {},
   "outputs": [],
   "source": [
    "#Hey Dr. Gitzendanner, I keep getting a syntax error and have no idea why. \n",
    "#Here's my attempt at inserting the data."
   ]
  }
 ],
 "metadata": {
  "kernelspec": {
   "display_name": "Python 3",
   "language": "python",
   "name": "python3"
  },
  "language_info": {
   "codemirror_mode": {
    "name": "ipython",
    "version": 3
   },
   "file_extension": ".py",
   "mimetype": "text/x-python",
   "name": "python",
   "nbconvert_exporter": "python",
   "pygments_lexer": "ipython3",
   "version": "3.6.3"
  }
 },
 "nbformat": 4,
 "nbformat_minor": 2
}
