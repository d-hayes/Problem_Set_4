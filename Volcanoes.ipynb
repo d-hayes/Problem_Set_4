{
 "cells": [
  {
   "cell_type": "code",
   "execution_count": 8,
   "metadata": {},
   "outputs": [],
   "source": [
    "volcanoes = open('/home/d.hayes/Problem_Set_4/GVP_Eruption_Results.xls')"
   ]
  },
  {
   "cell_type": "code",
   "execution_count": 10,
   "metadata": {},
   "outputs": [
    {
     "ename": "SyntaxError",
     "evalue": "invalid syntax (<ipython-input-10-db88dd77541c>, line 34)",
     "output_type": "error",
     "traceback": [
      "\u001b[0;36m  File \u001b[0;32m\"<ipython-input-10-db88dd77541c>\"\u001b[0;36m, line \u001b[0;32m34\u001b[0m\n\u001b[0;31m    MetaData.create_all(engine)\u001b[0m\n\u001b[0m           ^\u001b[0m\n\u001b[0;31mSyntaxError\u001b[0m\u001b[0;31m:\u001b[0m invalid syntax\n"
     ]
    }
   ],
   "source": [
    "from sqlalchemy import create_engine\n",
    "from sqlalchemy import Table, Column, Integer, String, MetaData, ForeignKey\n",
    "from sqlalchemy import exists\n",
    "from sqlalchemy import sql, select, join, desc\n",
    "\n",
    "# Create a sqlite database \n",
    "engine = create_engine('sqlite:///Problem_Set_4/volcanoes.sqlite')\n",
    "\n",
    "metadata=MetaData()\n",
    "\n",
    "#Making the Volcanoes table\n",
    "Volcanoes = Table ('Volcanoes', metadata,\n",
    "                Column('Volcano Number', Integer),\n",
    "                Column('Volcano Name', String),\n",
    "                Column('Eruption Number', Integer, primary_key = True),\n",
    "                Column('Latitude', Float),\n",
    "                Column('Longitude', Float),\n",
    "               )\n",
    "\n",
    "Eruptions = Table ('Eruptions', metadata,\n",
    "                 Column('Eruption Number', Integer, ForeignKey(\"Volcanoes.Eruption Number\"),\n",
    "                 Column('Eruption Category', String),\n",
    "                 Column('Area of Activity', String),\n",
    "                 Column('VEI', String),\n",
    "                 Column('Start Year', Integer),\n",
    "                 Column('Start Month', Integer),\n",
    "                 Column('Start Day', Integer),\n",
    "                 Column('Evidence Method', String),\n",
    "                 Column('End Year', Integer),\n",
    "                 Column('End Month', Integer),\n",
    "                 Column('End Day', Integer),\n",
    "                )\n",
    "                 \n",
    "metadata.create_all(engine)"
   ]
  },
  {
   "cell_type": "code",
   "execution_count": null,
   "metadata": {},
   "outputs": [],
   "source": []
  }
 ],
 "metadata": {
  "kernelspec": {
   "display_name": "Python 3",
   "language": "python",
   "name": "python3"
  },
  "language_info": {
   "codemirror_mode": {
    "name": "ipython",
    "version": 3
   },
   "file_extension": ".py",
   "mimetype": "text/x-python",
   "name": "python",
   "nbconvert_exporter": "python",
   "pygments_lexer": "ipython3",
   "version": "3.6.3"
  }
 },
 "nbformat": 4,
 "nbformat_minor": 2
}
